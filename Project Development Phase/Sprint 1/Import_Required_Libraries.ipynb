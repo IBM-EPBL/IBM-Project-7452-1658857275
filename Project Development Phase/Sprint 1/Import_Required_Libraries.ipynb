{
  "nbformat": 4,
  "nbformat_minor": 0,
  "metadata": {
    "colab": {
      "provenance": []
    },
    "kernelspec": {
      "name": "python3",
      "display_name": "Python 3"
    },
    "language_info": {
      "name": "python"
    }
  },
  "cells": [
    {
      "cell_type": "markdown",
      "source": [],
      "metadata": {
        "id": "voztAN7_gm9X"
      }
    },
    {
      "cell_type": "markdown",
      "source": [
        "## IMPORT NECESSARY LIBRARY"
      ],
      "metadata": {
        "id": "toWEqcgQgoah"
      }
    },
    {
      "cell_type": "code",
      "source": [
        "import numpy\n",
        "import tensorflow\n",
        "from tensorflow.keras.datasets import mnist\n",
        "from tensorflow.keras.models import Sequential\n",
        "from tensorflow.keras import layers\n",
        "from tensorflow.keras.layers import Dense, Flatten\n",
        "\n",
        "from tensorflow.keras.layers import Conv2D\n",
        "from keras.optimizers import Adam\n",
        "from keras.utils import np_utils"
      ],
      "metadata": {
        "id": "ms49FwnfgwCw"
      },
      "execution_count": 7,
      "outputs": []
    }
  ]
}