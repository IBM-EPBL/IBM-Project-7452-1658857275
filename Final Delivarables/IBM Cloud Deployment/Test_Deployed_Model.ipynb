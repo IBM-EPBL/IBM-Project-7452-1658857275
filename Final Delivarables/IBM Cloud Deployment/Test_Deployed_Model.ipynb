{
 "cells": [
  {
   "cell_type": "markdown",
   "metadata": {
    "id": "Kmky4rZlnYN5"
   },
   "source": [
    "### **Import necessary libraries**"
   ]
  },
  {
   "cell_type": "code",
   "execution_count": 1,
   "metadata": {
    "id": "Q3PEnoe2nWnQ"
   },
   "outputs": [],
   "source": [
    "import requests\n",
    "import numpy as np\n",
    "from PIL import Image, ImageOps\n",
    "import matplotlib.pyplot as plt"
   ]
  },
  {
   "cell_type": "markdown",
   "metadata": {
    "id": "nkHtXziCnkGm"
   },
   "source": [
    "### **Input pre-processing**"
   ]
  },
  {
   "cell_type": "code",
   "execution_count": 7,
   "metadata": {
    "id": "Rrb2DY1Vniaw"
   },
   "outputs": [],
   "source": [
    "img = Image.open(f\"../sample/sample 1.png\").convert(\"L\")\n",
    "img = ImageOps.invert(img)\n",
    "img = img.resize((28, 28))\n",
    "img_arr = np.array(img)\n",
    "img_arr = img_arr / 255.0\n",
    "img_arr = img_arr.reshape(28, 28, 1)\n",
    "\n",
    "img2 = Image.open(f\"../sample/sample 2.png\").convert(\"L\")\n",
    "img2 = ImageOps.invert(img2)\n",
    "img2 = img2.resize((28, 28))\n",
    "img2_arr = np.array(img2)\n",
    "img2_arr = img2_arr / 255.0\n",
    "img2_arr = img2_arr.reshape(28, 28, 1)\n",
    "\n",
    "img3 = Image.open(f\"../sample/sample 3.png\").convert(\"L\")\n",
    "img3 = ImageOps.invert(img3)\n",
    "img3 = img3.resize((28, 28))\n",
    "img3_arr = np.array(img3)\n",
    "img3_arr = img3_arr / 255.0\n",
    "img3_arr = img3_arr.reshape(28, 28, 1)"
   ]
  },
  {
   "cell_type": "markdown",
   "metadata": {
    "id": "RGXs9fVhtNZ_"
   },
   "source": [
    "### **Get results from the deployed model**\n"
   ]
  },
  {
   "cell_type": "code",
   "execution_count": null,
   "metadata": {
    "id": "xNgk3FlcsyHZ"
   },
   "outputs": [],
   "source": [
    "API_KEY = \"\" \n",
    "\n",
    "token_response = requests.post('https://iam.cloud.ibm.com/identity/token', data={\"apikey\": API_KEY, \"grant_type\": 'urn:ibm:params:oauth:grant-type:apikey'})\n",
    "\n",
    "mltoken = token_response.json()[\"access_token\"]\n",
    "\n",
    "header = {'Content-Type': 'application/json', 'Authorization': 'Bearer ' + mltoken}\n",
    "\n",
    "payload_scoring = {\"input_data\": [{\"fields\": [], \"values\": [img_arr.tolist(), img2_arr.tolist(), img3_arr.tolist()]}]}\n",
    "\n",
    "response_scoring = requests.post('https://us-south.ml.cloud.ibm.com/ml/v4/deployments/ae43e79c-1fbc-450a-b0b4-9a54c451033b/predictions?version=2022-11-10', json=payload_scoring, headers={'Authorization': 'Bearer ' + mltoken})"
   ]
  },
  {
   "cell_type": "markdown",
   "metadata": {
    "id": "1o6erxoPtX_t"
   },
   "source": [
    "### **Display results**"
   ]
  },
  {
   "cell_type": "code",
   "execution_count": 17,
   "metadata": {
    "colab": {
     "base_uri": "https://localhost:8080/",
     "height": 265
    },
    "id": "iU3FbxEFqLVQ",
    "outputId": "bd084021-5348-4244-c213-dfb37fea0ee1"
   },
   "outputs": [
    {
     "data": {
      "image/png": "[encoded data removed]",
      "text/plain": [
       "<Figure size 432x288 with 1 Axes>"
      ]
     },
     "metadata": {
      "needs_background": "light"
     },
     "output_type": "display_data"
    },
    {
     "name": "stdout",
     "output_type": "stream",
     "text": [
      "Result: 2\n"
     ]
    }
   ],
   "source": [
    "plt.imshow(plt.imread(\"../sample/sample 1.png\"))\n",
    "plt.axis('off')\n",
    "plt.show()\n",
    "print(\"Result: \", response_scoring.json()['predictions'][0]['values'][0][1])"
   ]
  },
  {
   "cell_type": "code",
   "execution_count": 18,
   "metadata": {
    "colab": {
     "base_uri": "https://localhost:8080/",
     "height": 265
    },
    "id": "CJNCS555sP8e",
    "outputId": "97d88390-fe9c-4cb1-e583-9dc8d748692b"
   },
   "outputs": [
    {
     "data": {
      "image/png": "[encoded data removed]",
      "text/plain": [
       "<Figure size 432x288 with 1 Axes>"
      ]
     },
     "metadata": {
      "needs_background": "light"
     },
     "output_type": "display_data"
    },
    {
     "name": "stdout",
     "output_type": "stream",
     "text": [
      "Result: 7\n"
     ]
    }
   ],
   "source": [
    "plt.imshow(plt.imread(\"../sample/sample 2.png\"))\n",
    "plt.axis('off')\n",
    "plt.show()\n",
    "print(\"Result: \", response_scoring.json()['predictions'][0]['values'][1][1])"
   ]
  },
  {
   "cell_type": "code",
   "execution_count": 20,
   "metadata": {
    "colab": {
     "base_uri": "https://localhost:8080/",
     "height": 265
    },
    "id": "1Wj4CtvNsaMe",
    "outputId": "f0fa2b4c-53bc-41d7-b74b-2af119062241"
   },
   "outputs": [
    {
     "data": {
      "image/png": "[encoded data removed]",
      "text/plain": [
       "<Figure size 432x288 with 1 Axes>"
      ]
     },
     "metadata": {
      "needs_background": "light"
     },
     "output_type": "display_data"
    },
    {
     "name": "stdout",
     "output_type": "stream",
     "text": [
      "Result: 8\n"
     ]
    }
   ],
   "source": [
    "plt.imshow(plt.imread(\"../sample/sample 3.png\"))\n",
    "plt.axis('off')\n",
    "plt.show()\n",
    "print(\"Result: \", response_scoring.json()['predictions'][0]['values'][2][1])"
   ]
  }
 ],
 "metadata": {
  "colab": {
   "provenance": []
  },
  "kernelspec": {
   "display_name": "Python 3 (ipykernel)",
   "language": "python",
   "name": "python3"
  },
  "language_info": {
   "codemirror_mode": {
    "name": "ipython",
    "version": 3
   },
   "file_extension": ".py",
   "mimetype": "text/x-python",
   "name": "python",
   "nbconvert_exporter": "python",
   "pygments_lexer": "ipython3",
   "version": "3.8.10"
  }
 },
 "nbformat": 4,
 "nbformat_minor": 1
}
