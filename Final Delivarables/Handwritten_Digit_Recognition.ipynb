{
 "cells": [
  {
   "cell_type": "code",
   "execution_count": 1,
   "metadata": {
    "id": "zvTSeLz1ZQZk"
   },
   "outputs": [],
   "source": [
    "import numpy as np\n",
    "import pandas as pd\n",
    "import matplotlib.pyplot as plt\n",
    "\n",
    "from PIL import Image, ImageOps\n",
    "from keras.utils import np_utils\n",
    "from tensorflow.keras.datasets import mnist\n",
    "from tensorflow.keras.optimizers import Adam\n",
    "from tensorflow.keras.models import Sequential, load_model\n",
    "from tensorflow.keras.layers import Conv2D, Dense, Flatten"
   ]
  },
  {
   "cell_type": "code",
   "execution_count": 2,
   "metadata": {
    "colab": {
     "base_uri": "https://localhost:8080/"
    },
    "id": "5HO5-6oRZdi-",
    "outputId": "cf9a1d5d-f21f-426e-e748-ec47af766d24"
   },
   "outputs": [
    {
     "name": "stdout",
     "output_type": "stream",
     "text": [
      "Downloading data from https://storage.googleapis.com/tensorflow/tf-keras-datasets/mnist.npz\n",
      "11490434/11490434 [==============================] - 0s 0us/step\n"
     ]
    }
   ],
   "source": [
    "(X_train, y_train), (X_test, y_test) = mnist.load_data()"
   ]
  },
  {
   "cell_type": "code",
   "execution_count": 3,
   "metadata": {
    "colab": {
     "base_uri": "https://localhost:8080/"
    },
    "id": "WuvzKbtQZ7Sx",
    "outputId": "73b5f6f5-868e-482d-8e82-7c3afebe430c"
   },
   "outputs": [
    {
     "name": "stdout",
     "output_type": "stream",
     "text": [
      "(60000, 28, 28)\n",
      "(10000, 28, 28)\n"
     ]
    }
   ],
   "source": [
    "print(X_train.shape)\n",
    "print(X_test.shape)"
   ]
  },
  {
   "cell_type": "code",
   "execution_count": 6,
   "metadata": {
    "colab": {
     "base_uri": "https://localhost:8080/",
     "height": 283
    },
    "id": "W-Ss62UraILd",
    "outputId": "6d790c8b-80b8-47d7-c424-9b7703e659b0"
   },
   "outputs": [
    {
     "data": {
      "text/plain": [
       "<matplotlib.image.AxesImage at 0x7f287692dd10>"
      ]
     },
     "execution_count": 6,
     "metadata": {},
     "output_type": "execute_result"
    },
    {
     "data": {
      "image/png": "[encoded data removed]",
      "text/plain": [
       "<Figure size 432x288 with 1 Axes>"
      ]
     },
     "metadata": {
      "needs_background": "light"
     },
     "output_type": "display_data"
    }
   ],
   "source": [
    "plt.imshow(X_train[0])"
   ]
  },
  {
   "cell_type": "code",
   "execution_count": 7,
   "metadata": {
    "id": "8qcBi7CyaNGz"
   },
   "outputs": [],
   "source": [
    "X_train = X_train.reshape(60000, 28, 28, 1).astype(\"float32\")\n",
    "X_test = X_test.reshape(10000, 28, 28, 1).astype(\"float32\")"
   ]
  },
  {
   "cell_type": "code",
   "execution_count": 8,
   "metadata": {
    "id": "6imBBLsJaZHr"
   },
   "outputs": [],
   "source": [
    "number_of_classes = 10\n",
    "Y_train = np_utils.to_categorical(y_train, number_of_classes)\n",
    "Y_test = np_utils.to_categorical(y_test, number_of_classes)"
   ]
  },
  {
   "cell_type": "code",
   "execution_count": 10,
   "metadata": {
    "id": "NrbxHtYtbI67"
   },
   "outputs": [],
   "source": [
    "model = Sequential()\n",
    "model.add(Conv2D(64, (3, 3), input_shape=(28, 28, 1), activation=\"relu\"))\n",
    "model.add(Conv2D(32, (3, 3), activation=\"relu\"))\n",
    "model.add(Flatten())\n",
    "model.add(Dense(number_of_classes, activation=\"softmax\"))"
   ]
  },
  {
   "cell_type": "code",
   "execution_count": 11,
   "metadata": {
    "id": "qMsqGrD3bX7i"
   },
   "outputs": [],
   "source": [
    "model.compile(loss=\"categorical_crossentropy\", optimizer=\"Adam\", metrics=[\"accuracy\"])"
   ]
  },
  {
   "cell_type": "code",
   "execution_count": 12,
   "metadata": {
    "colab": {
     "base_uri": "https://localhost:8080/"
    },
    "id": "p0G-LJKmbglw",
    "outputId": "b80c55ce-f8ea-451e-fbb8-c44070659a0c"
   },
   "outputs": [
    {
     "name": "stdout",
     "output_type": "stream",
     "text": [
      "Epoch 1/5\n",
      "235/235 [==============================] - 175s 740ms/step - loss: 0.7684 - accuracy: 0.9143 - val_loss: 0.0931 - val_accuracy: 0.9711\n",
      "Epoch 2/5\n",
      "235/235 [==============================] - 171s 727ms/step - loss: 0.0725 - accuracy: 0.9778 - val_loss: 0.0719 - val_accuracy: 0.9777\n",
      "Epoch 3/5\n",
      "235/235 [==============================] - 173s 735ms/step - loss: 0.0449 - accuracy: 0.9855 - val_loss: 0.0714 - val_accuracy: 0.9779\n",
      "Epoch 4/5\n",
      "235/235 [==============================] - 174s 742ms/step - loss: 0.0327 - accuracy: 0.9892 - val_loss: 0.0895 - val_accuracy: 0.9755\n",
      "Epoch 5/5\n",
      "235/235 [==============================] - 172s 732ms/step - loss: 0.0262 - accuracy: 0.9914 - val_loss: 0.0888 - val_accuracy: 0.9782\n"
     ]
    },
    {
     "data": {
      "text/plain": [
       "<keras.callbacks.History at 0x7f2872138a50>"
      ]
     },
     "execution_count": 12,
     "metadata": {},
     "output_type": "execute_result"
    }
   ],
   "source": [
    "model.fit(X_train, Y_train, batch_size=256, epochs=5, validation_data=(X_test, Y_test))"
   ]
  },
  {
   "cell_type": "code",
   "execution_count": 13,
   "metadata": {
    "colab": {
     "base_uri": "https://localhost:8080/"
    },
    "id": "2xk691HJb3__",
    "outputId": "1a436aee-6353-4c40-ca77-f231f7e0820b"
   },
   "outputs": [
    {
     "name": "stdout",
     "output_type": "stream",
     "text": [
      "Metrics (Test Loss & Test Accuracy): \n",
      "[0.08877503126859665, 0.9782000184059143]\n"
     ]
    }
   ],
   "source": [
    "metrics = model.evaluate(X_test, Y_test, verbose=0)\n",
    "print(\"Metrics (Test Loss & Test Accuracy): \")\n",
    "print(metrics)"
   ]
  },
  {
   "cell_type": "code",
   "execution_count": 14,
   "metadata": {
    "colab": {
     "base_uri": "https://localhost:8080/"
    },
    "id": "GfR3hilAd0l4",
    "outputId": "9099d5b1-3848-4095-f914-8855ea739daa"
   },
   "outputs": [
    {
     "name": "stdout",
     "output_type": "stream",
     "text": [
      "1/1 [==============================] - 0s 91ms/step\n",
      "[[4.14340090e-12 6.20706896e-14 7.47722684e-09 7.48266059e-04\n",
      "  7.69512386e-16 1.13207160e-15 7.85414424e-16 9.99251664e-01\n",
      "  1.05309930e-08 9.48492951e-10]\n",
      " [2.75578440e-08 2.81768121e-06 9.99994278e-01 4.28325848e-07\n",
      "  3.45381254e-12 7.03106367e-12 8.00472208e-07 5.98686398e-08\n",
      "  1.60768025e-06 1.48204592e-14]\n",
      " [5.86631404e-06 9.57506180e-01 6.22565160e-03 5.85102100e-08\n",
      "  3.87271633e-03 7.67376434e-07 4.03024387e-06 2.86956110e-05\n",
      "  3.23554352e-02 6.50562527e-07]\n",
      " [9.99993205e-01 9.85164294e-12 2.15250407e-06 7.47123127e-11\n",
      "  1.90717375e-09 1.48108255e-08 7.36817924e-07 4.06140117e-08\n",
      "  3.77435327e-07 3.56820578e-06]]\n"
     ]
    }
   ],
   "source": [
    "prediction = model.predict(X_test[:4])\n",
    "print(prediction)"
   ]
  },
  {
   "cell_type": "code",
   "execution_count": 17,
   "metadata": {
    "colab": {
     "base_uri": "https://localhost:8080/"
    },
    "id": "OXdMmQ3Kd4td",
    "outputId": "821d1f0f-e5bb-4561-a24a-446ef30e1f0b"
   },
   "outputs": [
    {
     "name": "stdout",
     "output_type": "stream",
     "text": [
      "[7 2 1 0]\n",
      "[[0. 0. 0. 0. 0. 0. 0. 1. 0. 0.]\n",
      " [0. 0. 1. 0. 0. 0. 0. 0. 0. 0.]\n",
      " [0. 1. 0. 0. 0. 0. 0. 0. 0. 0.]\n",
      " [1. 0. 0. 0. 0. 0. 0. 0. 0. 0.]]\n"
     ]
    }
   ],
   "source": [
    "print(np.argmax(prediction, axis=1))\n",
    "print(Y_test[:4])"
   ]
  },
  {
   "cell_type": "code",
   "execution_count": 18,
   "metadata": {
    "id": "6tXn7qFNevOv"
   },
   "outputs": [],
   "source": [
    "model.save(\"model.h5\")"
   ]
  },
  {
   "cell_type": "code",
   "execution_count": 19,
   "metadata": {
    "id": "k1XJsJGPe4DU"
   },
   "outputs": [],
   "source": [
    "model = load_model(\"model.h5\")"
   ]
  },
  {
   "cell_type": "code",
   "execution_count": 24,
   "metadata": {
    "colab": {
     "base_uri": "https://localhost:8080/"
    },
    "id": "wQ1CGzH1fIFz",
    "outputId": "0a0c9f7a-06d4-49d9-9d30-5ddbe3a21e50"
   },
   "outputs": [
    {
     "name": "stdout",
     "output_type": "stream",
     "text": [
      "1/1 [==============================] - 0s 19ms/step\n",
      "0    8\n",
      "Name: Label, dtype: int64\n"
     ]
    }
   ],
   "source": [
    "img = Image.open(\"/content/sample_data/sample.png\").convert(\"L\")\n",
    "img = img.resize((28, 28))\n",
    "img2arr = np.array(img)\n",
    "img2arr = img2arr.reshape(1, 28, 28, 1)\n",
    "results = model.predict(img2arr)\n",
    "results = np.argmax(results, axis=1)\n",
    "results = pd.Series(results, name=\"Label\")\n",
    "print(results)"
   ]
  }
 ],
 "metadata": {
  "colab": {
   "provenance": []
  },
  "kernelspec": {
   "display_name": "Python 3 (ipykernel)",
   "language": "python",
   "name": "python3"
  },
  "language_info": {
   "codemirror_mode": {
    "name": "ipython",
    "version": 3
   },
   "file_extension": ".py",
   "mimetype": "text/x-python",
   "name": "python",
   "nbconvert_exporter": "python",
   "pygments_lexer": "ipython3",
   "version": "3.8.10"
  }
 },
 "nbformat": 4,
 "nbformat_minor": 1
}
